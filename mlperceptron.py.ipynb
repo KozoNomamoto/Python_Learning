{
 "cells": [
  {
   "cell_type": "markdown",
   "metadata": {},
   "source": [
    " ## パーセプトロンとは\n",
    "***\n",
    "- 複数の信号を入力として、1つの信号を出力する\n",
    "- 出力は信号を流す(1)か流さない(0)の二値分類になる\n",
    "- 閾値を超えるか否かで出力信号が決まる\n",
    "<br>\n",
    "step関数\n",
    "$\n",
    "f(x) = \\left\\{\n",
    "\\begin{array}{}\n",
    "0 & (x < 0)\\\\\n",
    "1 & (x \\geqq 0)\n",
    "\\end{array}\n",
    "\\right.\n",
    "$"
   ]
  },
  {
   "cell_type": "markdown",
   "metadata": {},
   "source": [
    "## パーセプトロンとニューラルネットワークの違い\n",
    "***\n",
    "**活性化関数がstep関数で計算するものをパーセプトロンと呼ぶ。**<br>\n",
    "<br>\n",
    "$\n",
    "x = (w_0*x_0 + w_1*x_1) + b\\\\\n",
    "y = f(x)\\\\\n",
    "y = \\left\\{\n",
    "\\begin{array}{}\n",
    "0 & (x < 0)\\\\\n",
    "1 & (x \\geqq 0)\n",
    "\\end{array}\n",
    "\\right.\n",
    "$\n",
    "<br>\n",
    "<br>\n",
    "**活性化関数がstep関数以外で計算するものをニューラルネットワークと呼ぶ。**"
   ]
  },
  {
   "cell_type": "markdown",
   "metadata": {},
   "source": [
    "### ANDゲート\n",
    "***\n",
    "\n",
    "**二値の条件を満たしている時(Trueの時)出力することができる。**\n",
    "\n",
    "|x1|x2|y|\n",
    "|-|-|-|\n",
    "|0|0|0|\n",
    "|1|0|0|\n",
    "|0|1|0|\n",
    "|1|1|1|\n",
    "<br>\n",
    "\n",
    "例<br>\n",
    "\n",
    "$\n",
    "y = \\left\\{\n",
    "\\begin{array}{}\n",
    "0 & (x_0w_0 + x_1w_1 \\leqq \\theta)\\\\\n",
    "1 & (x_0w_0 + x_1w_1 > \\theta)\n",
    "\\end{array}\n",
    "\\right.\n",
    "$\n",
    "<br>\n",
    "<br>\n",
    "$\n",
    "(w_0, w_1, \\theta) = (0.5, 0.5, 0.8)\n",
    "$"
   ]
  },
  {
   "cell_type": "markdown",
   "metadata": {},
   "source": [
    "### NANDゲートとORゲート\n",
    "***\n",
    "**NANDゲート**\n",
    "**二値の条件を満たしていない時にTrueになるのがNANDゲート。**<br>\n",
    "**逆に二値の条件を満たしている時はFalseになる。**<br>\n",
    "**NADゲートはANDゲートの逆のゲート。**\n",
    "\n",
    "|x1|x2|y|\n",
    "|-|-|-|\n",
    "|0|0|1|\n",
    "|1|0|1|\n",
    "|0|1|1|\n",
    "|1|1|0|\n",
    "<br>\n",
    "\n",
    "**ORゲート**<br>\n",
    "**二値の条件のうちどちらかが満たしている(True)ならば出力することができる。**\n",
    "\n",
    "|x1|x2|y|\n",
    "|-|-|-|\n",
    "|0|0|0|\n",
    "|1|0|1|\n",
    "|0|1|1|\n",
    "|1|1|1|\n",
    "\n",
    "例<br>\n",
    "\n",
    "$\n",
    "y = \\left\\{\n",
    "\\begin{array}{}\n",
    "0 & (x_0w_0 + x_1w_1 \\leqq \\theta)\\\\\n",
    "1 & (x_0w_0 + x_1w_1 > \\theta)\n",
    "\\end{array}\n",
    "\\right.\n",
    "$\n",
    "<br>\n",
    "<br>\n",
    "NANDゲート<br>\n",
    "$\n",
    "(w_0, w_1, \\theta) = (-0.5, -0.5, -0.8)\n",
    "$<br>\n",
    "<br>\n",
    "ORゲート<br>\n",
    "$\n",
    "(w_0, w_1, \\theta) = (1.0, 1.0, 0.8)\n",
    "$\n"
   ]
  },
  {
   "cell_type": "code",
   "execution_count": 3,
   "metadata": {},
   "outputs": [],
   "source": [
    "# パーセプトロンの実装\n",
    "# ANDゲート\n",
    "\n",
    "def AND(x0, x1):\n",
    "    w0, w1, theta = 0.5, 0.5, 0.8\n",
    "    tmp = x0*w0 + x1*w1\n",
    "    if tmp <= theta:\n",
    "        return 0\n",
    "    elif tmp > theta:\n",
    "        return 1"
   ]
  },
  {
   "cell_type": "code",
   "execution_count": 4,
   "metadata": {},
   "outputs": [
    {
     "data": {
      "text/plain": [
       "0"
      ]
     },
     "execution_count": 4,
     "metadata": {},
     "output_type": "execute_result"
    }
   ],
   "source": [
    "AND(0, 0)"
   ]
  },
  {
   "cell_type": "code",
   "execution_count": 5,
   "metadata": {},
   "outputs": [
    {
     "data": {
      "text/plain": [
       "0"
      ]
     },
     "execution_count": 5,
     "metadata": {},
     "output_type": "execute_result"
    }
   ],
   "source": [
    "AND(1, 0)"
   ]
  },
  {
   "cell_type": "code",
   "execution_count": 6,
   "metadata": {},
   "outputs": [
    {
     "data": {
      "text/plain": [
       "0"
      ]
     },
     "execution_count": 6,
     "metadata": {},
     "output_type": "execute_result"
    }
   ],
   "source": [
    "AND(0, 1)"
   ]
  },
  {
   "cell_type": "code",
   "execution_count": 7,
   "metadata": {},
   "outputs": [
    {
     "data": {
      "text/plain": [
       "1"
      ]
     },
     "execution_count": 7,
     "metadata": {},
     "output_type": "execute_result"
    }
   ],
   "source": [
    "AND(1, 1)"
   ]
  },
  {
   "cell_type": "code",
   "execution_count": 15,
   "metadata": {},
   "outputs": [],
   "source": [
    "# NANDゲート\n",
    "\n",
    "def NAND(x0, x1):\n",
    "    w0, w1, theta = -0.5, -0.5, -0.8\n",
    "    tmp = x0*w0 + x1*w1\n",
    "    if tmp <= theta:\n",
    "        return 0\n",
    "    elif tmp > theta:\n",
    "        return 1"
   ]
  },
  {
   "cell_type": "code",
   "execution_count": 16,
   "metadata": {},
   "outputs": [
    {
     "data": {
      "text/plain": [
       "1"
      ]
     },
     "execution_count": 16,
     "metadata": {},
     "output_type": "execute_result"
    }
   ],
   "source": [
    "NAND(0, 0)"
   ]
  },
  {
   "cell_type": "code",
   "execution_count": 17,
   "metadata": {},
   "outputs": [
    {
     "data": {
      "text/plain": [
       "1"
      ]
     },
     "execution_count": 17,
     "metadata": {},
     "output_type": "execute_result"
    }
   ],
   "source": [
    "NAND(1, 0)"
   ]
  },
  {
   "cell_type": "code",
   "execution_count": 18,
   "metadata": {},
   "outputs": [
    {
     "data": {
      "text/plain": [
       "1"
      ]
     },
     "execution_count": 18,
     "metadata": {},
     "output_type": "execute_result"
    }
   ],
   "source": [
    "NAND(0, 1)"
   ]
  },
  {
   "cell_type": "code",
   "execution_count": 19,
   "metadata": {},
   "outputs": [
    {
     "data": {
      "text/plain": [
       "0"
      ]
     },
     "execution_count": 19,
     "metadata": {},
     "output_type": "execute_result"
    }
   ],
   "source": [
    "NAND(1, 1)"
   ]
  },
  {
   "cell_type": "code",
   "execution_count": 20,
   "metadata": {},
   "outputs": [],
   "source": [
    "# ORゲート\n",
    "\n",
    "def OR(x0, x1):\n",
    "    w0, w1, theta = 1.0, 1.0, 0.8\n",
    "    tmp = x0*w0 + x1*w1\n",
    "    if tmp <= theta:\n",
    "        return 0\n",
    "    elif tmp > theta:\n",
    "        return 1"
   ]
  },
  {
   "cell_type": "code",
   "execution_count": 22,
   "metadata": {},
   "outputs": [
    {
     "data": {
      "text/plain": [
       "0"
      ]
     },
     "execution_count": 22,
     "metadata": {},
     "output_type": "execute_result"
    }
   ],
   "source": [
    "OR(0, 0)"
   ]
  },
  {
   "cell_type": "code",
   "execution_count": 23,
   "metadata": {},
   "outputs": [
    {
     "data": {
      "text/plain": [
       "1"
      ]
     },
     "execution_count": 23,
     "metadata": {},
     "output_type": "execute_result"
    }
   ],
   "source": [
    "OR(1, 0)"
   ]
  },
  {
   "cell_type": "code",
   "execution_count": 24,
   "metadata": {},
   "outputs": [
    {
     "data": {
      "text/plain": [
       "1"
      ]
     },
     "execution_count": 24,
     "metadata": {},
     "output_type": "execute_result"
    }
   ],
   "source": [
    "OR(0, 1)"
   ]
  },
  {
   "cell_type": "code",
   "execution_count": 25,
   "metadata": {},
   "outputs": [
    {
     "data": {
      "text/plain": [
       "1"
      ]
     },
     "execution_count": 25,
     "metadata": {},
     "output_type": "execute_result"
    }
   ],
   "source": [
    "OR(1, 1)"
   ]
  },
  {
   "cell_type": "code",
   "execution_count": 28,
   "metadata": {},
   "outputs": [],
   "source": [
    "# 重みとバイアスの導入\n",
    "\n",
    "import numpy as np\n",
    "\n",
    "x = np.array([0, 1, 2])\n",
    "w = np.array([0.5, 0.5, 0.5])\n",
    "b = -0.8"
   ]
  },
  {
   "cell_type": "code",
   "execution_count": 29,
   "metadata": {},
   "outputs": [
    {
     "data": {
      "text/plain": [
       "array([0. , 0.5, 1. ])"
      ]
     },
     "execution_count": 29,
     "metadata": {},
     "output_type": "execute_result"
    }
   ],
   "source": [
    "# 重み付き入力\n",
    "x*w"
   ]
  },
  {
   "cell_type": "code",
   "execution_count": 30,
   "metadata": {},
   "outputs": [
    {
     "data": {
      "text/plain": [
       "1.5"
      ]
     },
     "execution_count": 30,
     "metadata": {},
     "output_type": "execute_result"
    }
   ],
   "source": [
    "# 重み付き入力の合計\n",
    "np.sum(x*w)"
   ]
  },
  {
   "cell_type": "code",
   "execution_count": 35,
   "metadata": {},
   "outputs": [
    {
     "data": {
      "text/plain": [
       "0.7"
      ]
     },
     "execution_count": 35,
     "metadata": {},
     "output_type": "execute_result"
    }
   ],
   "source": [
    "# y = wx + b\n",
    "np.sum(x*w)+b"
   ]
  },
  {
   "cell_type": "code",
   "execution_count": 82,
   "metadata": {},
   "outputs": [],
   "source": [
    "# バイアスの追加\n",
    "\n",
    "def AND(x0, x1):\n",
    "    x = np.array([x0, x1])\n",
    "    w = np.array([0.5, 0.5])\n",
    "    b = -0.8\n",
    "    tmp = np.sum(x*w) + b\n",
    "    if tmp <= 0:\n",
    "        return 0\n",
    "    else:\n",
    "        return 1"
   ]
  },
  {
   "cell_type": "code",
   "execution_count": 58,
   "metadata": {},
   "outputs": [
    {
     "data": {
      "text/plain": [
       "array([0, 0])"
      ]
     },
     "execution_count": 58,
     "metadata": {},
     "output_type": "execute_result"
    }
   ],
   "source": [
    "np.array(xs)"
   ]
  },
  {
   "cell_type": "code",
   "execution_count": 83,
   "metadata": {},
   "outputs": [
    {
     "name": "stdout",
     "output_type": "stream",
     "text": [
      "(0, 0)->0\n",
      "(1, 0)->0\n",
      "(0, 1)->0\n",
      "(1, 1)->1\n"
     ]
    }
   ],
   "source": [
    "for xs in [(0, 0), (1, 0), (0, 1), (1, 1)]:\n",
    "    y = AND(xs[0], xs[1])\n",
    "    print(str(xs) + '->' + str(y))"
   ]
  },
  {
   "cell_type": "code",
   "execution_count": 84,
   "metadata": {},
   "outputs": [],
   "source": [
    "def AND(x0, x1):\n",
    "    x = np.array([x0, x1])\n",
    "    w = np.array([0.5, 0.5])\n",
    "    b = -0.8\n",
    "    tmp = np.sum(x*w)+b\n",
    "    return np.where(tmp <= 0, 0, 1)"
   ]
  },
  {
   "cell_type": "code",
   "execution_count": 85,
   "metadata": {},
   "outputs": [
    {
     "data": {
      "text/plain": [
       "array(0)"
      ]
     },
     "execution_count": 85,
     "metadata": {},
     "output_type": "execute_result"
    }
   ],
   "source": [
    "AND(0, 0)"
   ]
  },
  {
   "cell_type": "code",
   "execution_count": 86,
   "metadata": {},
   "outputs": [
    {
     "data": {
      "text/plain": [
       "array(0)"
      ]
     },
     "execution_count": 86,
     "metadata": {},
     "output_type": "execute_result"
    }
   ],
   "source": [
    "AND(1, 0)"
   ]
  },
  {
   "cell_type": "code",
   "execution_count": 87,
   "metadata": {},
   "outputs": [
    {
     "data": {
      "text/plain": [
       "array(0)"
      ]
     },
     "execution_count": 87,
     "metadata": {},
     "output_type": "execute_result"
    }
   ],
   "source": [
    "AND(0, 1)"
   ]
  },
  {
   "cell_type": "code",
   "execution_count": 88,
   "metadata": {
    "scrolled": true
   },
   "outputs": [
    {
     "data": {
      "text/plain": [
       "array(1)"
      ]
     },
     "execution_count": 88,
     "metadata": {},
     "output_type": "execute_result"
    }
   ],
   "source": [
    "AND(1,1)"
   ]
  },
  {
   "cell_type": "code",
   "execution_count": 89,
   "metadata": {
    "scrolled": true
   },
   "outputs": [
    {
     "name": "stdout",
     "output_type": "stream",
     "text": [
      "(0, 0)->0\n",
      "(1, 0)->0\n",
      "(0, 1)->0\n",
      "(1, 1)->1\n"
     ]
    }
   ],
   "source": [
    "for xs in [(0, 0), (1, 0), (0, 1), (1, 1)]:\n",
    "    y = AND(xs[0], xs[1])\n",
    "    print(str(xs) + '->' + str(y))"
   ]
  },
  {
   "cell_type": "code",
   "execution_count": 98,
   "metadata": {},
   "outputs": [],
   "source": [
    "def NAND(x0, x1):\n",
    "    x = np.array([x0, x1])\n",
    "    w = np.array([-0.5, -0.5])\n",
    "    b = 0.8\n",
    "    tmp = np.sum(x*w)+b\n",
    "    return np.where(tmp <= 0, 0, 1)"
   ]
  },
  {
   "cell_type": "code",
   "execution_count": 99,
   "metadata": {},
   "outputs": [
    {
     "name": "stdout",
     "output_type": "stream",
     "text": [
      "(0, 0)->1\n",
      "(1, 0)->1\n",
      "(0, 1)->1\n",
      "(1, 1)->0\n"
     ]
    }
   ],
   "source": [
    "for xs in [(0, 0), (1, 0), (0, 1), (1, 1)]:\n",
    "    y = NAND(xs[0], xs[1])\n",
    "    print(str(xs) + '->' + str(y))"
   ]
  },
  {
   "cell_type": "code",
   "execution_count": null,
   "metadata": {},
   "outputs": [],
   "source": [
    "def OR(x0, x1):\n",
    "    x = np.array([x0, x1])\n",
    "    w = np.array([1.0, 1.0])\n",
    "    b = -0.8\n",
    "    tmp = np.sum(x*w)+b\n",
    "    return np.where(tmp <= 0, 0, 1)"
   ]
  },
  {
   "cell_type": "code",
   "execution_count": 100,
   "metadata": {},
   "outputs": [
    {
     "name": "stdout",
     "output_type": "stream",
     "text": [
      "(0, 0)->0\n",
      "(1, 0)->1\n",
      "(0, 1)->1\n",
      "(1, 1)->1\n"
     ]
    }
   ],
   "source": [
    "for xs in [(0, 0), (1, 0), (0, 1), (1, 1)]:\n",
    "    y = OR(xs[0], xs[1])\n",
    "    print(str(xs) + '->' + str(y))"
   ]
  },
  {
   "cell_type": "markdown",
   "metadata": {},
   "source": [
    "## XORゲート\n",
    "***\n",
    "**NANDとOR、ANDを組み合わせた既存ゲートの組み合わせを多層パーセプトロンと言い、<br>\n",
    "本来パーセプトロンでは非線形回帰は表示できないが、<br>\n",
    "XORゲートは多層パーセプトロンで表示できる。<br>** \n",
    "<br>\n",
    "\n",
    "|x1|x2|y|\n",
    "|-|-|-|\n",
    "|0|0|0|\n",
    "|1|0|1|\n",
    "|0|1|1|\n",
    "|1|1|0|\n",
    "\n",
    "<br>\n",
    "\n",
    "**通常の線形回帰では結果が(1, 0), (0, 1), (1, 1)の時は1を出力し、(0, 0)の時は0を出力する。**<br>\n",
    "**非線形回帰では結果が(1, 0), (0,1)の時は1を出力し、(0, 0), (1, 1)の時は0を出力する。**\n",
    "\n"
   ]
  },
  {
   "cell_type": "code",
   "execution_count": 102,
   "metadata": {},
   "outputs": [],
   "source": [
    "def XOR(x0, x1):\n",
    "    s0 = NAND(x0, x1)\n",
    "    s1 = OR(x0, x1)\n",
    "    y = AND(s0, s1)\n",
    "    return y"
   ]
  },
  {
   "cell_type": "code",
   "execution_count": 105,
   "metadata": {},
   "outputs": [
    {
     "name": "stdout",
     "output_type": "stream",
     "text": [
      "(0, 0)->0\n",
      "(1, 0)->1\n",
      "(0, 1)->1\n",
      "(1, 1)->0\n"
     ]
    }
   ],
   "source": [
    "for xs in [(0, 0), (1, 0), (0, 1), (1, 1)]:\n",
    "    z = XOR(xs[0], xs[1])\n",
    "    print(str(xs) + '->' + str(z))"
   ]
  },
  {
   "cell_type": "markdown",
   "metadata": {},
   "source": [
    "**以上の結果からパーセプトロンは層を重ねるとより柔軟な表現ができるようになる**"
   ]
  }
 ],
 "metadata": {
  "kernelspec": {
   "display_name": "Python 3",
   "language": "python",
   "name": "python3"
  },
  "language_info": {
   "codemirror_mode": {
    "name": "ipython",
    "version": 3
   },
   "file_extension": ".py",
   "mimetype": "text/x-python",
   "name": "python",
   "nbconvert_exporter": "python",
   "pygments_lexer": "ipython3",
   "version": "3.8.0"
  }
 },
 "nbformat": 4,
 "nbformat_minor": 4
}
